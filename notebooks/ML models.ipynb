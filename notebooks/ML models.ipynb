{
 "cells": [
  {
   "cell_type": "code",
   "execution_count": 1,
   "id": "bf5553c8",
   "metadata": {},
   "outputs": [],
   "source": [
    "import pandas as pd\n",
    "import seaborn as sns\n",
    "import matplotlib.pyplot as plt"
   ]
  },
  {
   "cell_type": "code",
   "execution_count": 2,
   "id": "d30bc969",
   "metadata": {},
   "outputs": [],
   "source": [
    "df = pd.read_csv(\"data(1).csv\",low_memory=False) "
   ]
  },
  {
   "cell_type": "code",
   "execution_count": 3,
   "id": "c7d09d38",
   "metadata": {},
   "outputs": [
    {
     "name": "stdout",
     "output_type": "stream",
     "text": [
      "The original dataset has 730178 rows and 59 columns\n"
     ]
    }
   ],
   "source": [
    "df_shape = df.shape\n",
    "print(\"The original dataset has \" + str(df_shape[0]) + \" rows and \" + str(df_shape[1]) + \" columns\")"
   ]
  },
  {
   "cell_type": "code",
   "execution_count": 9,
   "id": "7fd8ddb5",
   "metadata": {},
   "outputs": [
    {
     "name": "stdout",
     "output_type": "stream",
     "text": [
      "lis length: 380769\n",
      "df length: 380769\n"
     ]
    }
   ],
   "source": [
    "# encodes genres jaxx, electronic, folk/country, funk/soul/rnb, pop, rap/hip-hop, classical/baroque, rock\n",
    "# this schema does not consider genres with multiple labels (e.g. \"pop, rock\") and only intakes the first genre label identified. \n",
    "lis = []\n",
    "for d in df['true_genre']:\n",
    "    if type(d) == str:\n",
    "        d = d.lower()\n",
    "        g = ''\n",
    "        if 'jazz' in d:\n",
    "            lis.append(1)\n",
    "            continue\n",
    "        if 'electronic' in d:\n",
    "            lis.append(2)\n",
    "            continue\n",
    "        if ('folk' in d) or('country' in d):\n",
    "            lis.append(3)\n",
    "            continue\n",
    "        if ('funk' in d) or ('soul' in d) or ('rnb' in d) or ('r&b' in d):\n",
    "            lis.append(4)\n",
    "            continue\n",
    "        if 'pop' in d:\n",
    "            lis.append(5)\n",
    "            continue\n",
    "        if ('rap' in d) or (('hip' in d) and ('hop' in d)):\n",
    "            lis.append(6)\n",
    "            continue\n",
    "        if ('classical' in d) or ('baroque' in d):\n",
    "            lis.append(7)\n",
    "            continue\n",
    "        if 'rock' in d:\n",
    "            lis.append(8)\n",
    "            continue\n",
    "        if g == '':\n",
    "            lis.append(None)\n",
    "            continue\n",
    "    else:\n",
    "        lis.append(None)\n",
    "        \n",
    "print(\"lis length:\", len(lis))\n",
    "print(\"df length:\", len(df))"
   ]
  },
  {
   "cell_type": "code",
   "execution_count": 10,
   "id": "832636e5",
   "metadata": {},
   "outputs": [
    {
     "data": {
      "text/html": [
       "<div>\n",
       "<style scoped>\n",
       "    .dataframe tbody tr th:only-of-type {\n",
       "        vertical-align: middle;\n",
       "    }\n",
       "\n",
       "    .dataframe tbody tr th {\n",
       "        vertical-align: top;\n",
       "    }\n",
       "\n",
       "    .dataframe thead th {\n",
       "        text-align: right;\n",
       "    }\n",
       "</style>\n",
       "<table border=\"1\" class=\"dataframe\">\n",
       "  <thead>\n",
       "    <tr style=\"text-align: right;\">\n",
       "      <th></th>\n",
       "      <th>id</th>\n",
       "      <th>danceability</th>\n",
       "      <th>gender_male</th>\n",
       "      <th>alternative</th>\n",
       "      <th>blues</th>\n",
       "      <th>electronic</th>\n",
       "      <th>folkcountry</th>\n",
       "      <th>funksoulrnb</th>\n",
       "      <th>jazz</th>\n",
       "      <th>pop</th>\n",
       "      <th>...</th>\n",
       "      <th>submission_offset_2</th>\n",
       "      <th>key_key</th>\n",
       "      <th>key_scale</th>\n",
       "      <th>tuning_frequency</th>\n",
       "      <th>tuning_equal_tempered_deviation</th>\n",
       "      <th>submission_offset_2.1</th>\n",
       "      <th>average_loudness</th>\n",
       "      <th>dynamic_complexity</th>\n",
       "      <th>mfcc_zero_mean</th>\n",
       "      <th>genre_parse</th>\n",
       "    </tr>\n",
       "  </thead>\n",
       "  <tbody>\n",
       "    <tr>\n",
       "      <th>1</th>\n",
       "      <td>00002fc9-7283-44dd-bf6f-94c9492d0998</td>\n",
       "      <td>0.91289</td>\n",
       "      <td>0.177181</td>\n",
       "      <td>0.065703</td>\n",
       "      <td>0.060694</td>\n",
       "      <td>0.538495</td>\n",
       "      <td>0.101193</td>\n",
       "      <td>0.02309</td>\n",
       "      <td>0.032346</td>\n",
       "      <td>0.037491</td>\n",
       "      <td>...</td>\n",
       "      <td>0</td>\n",
       "      <td>A#</td>\n",
       "      <td>major</td>\n",
       "      <td>434.193115</td>\n",
       "      <td>0.189041</td>\n",
       "      <td>0</td>\n",
       "      <td>0.935944</td>\n",
       "      <td>3.92467</td>\n",
       "      <td>-687.685669</td>\n",
       "      <td>6</td>\n",
       "    </tr>\n",
       "  </tbody>\n",
       "</table>\n",
       "<p>1 rows × 60 columns</p>\n",
       "</div>"
      ],
      "text/plain": [
       "                                     id  danceability  gender_male  \\\n",
       "1  00002fc9-7283-44dd-bf6f-94c9492d0998       0.91289     0.177181   \n",
       "\n",
       "   alternative     blues  electronic  folkcountry  funksoulrnb      jazz  \\\n",
       "1     0.065703  0.060694    0.538495     0.101193      0.02309  0.032346   \n",
       "\n",
       "        pop  ...  submission_offset_2  key_key key_scale  tuning_frequency  \\\n",
       "1  0.037491  ...                    0       A#     major        434.193115   \n",
       "\n",
       "   tuning_equal_tempered_deviation  submission_offset_2.1  average_loudness  \\\n",
       "1                         0.189041                      0          0.935944   \n",
       "\n",
       "   dynamic_complexity  mfcc_zero_mean  genre_parse  \n",
       "1             3.92467     -687.685669            6  \n",
       "\n",
       "[1 rows x 60 columns]"
      ]
     },
     "execution_count": 10,
     "metadata": {},
     "output_type": "execute_result"
    }
   ],
   "source": [
    "df['genre_parse'] = lis\n",
    "\n",
    "df.head(1)"
   ]
  },
  {
   "cell_type": "code",
   "execution_count": 11,
   "id": "600d1a5a",
   "metadata": {},
   "outputs": [],
   "source": [
    "# drops columns outside not included in the 8 above. \n",
    "df.dropna(subset=['genre_parse'], inplace=True)"
   ]
  },
  {
   "cell_type": "code",
   "execution_count": 12,
   "id": "09a14814",
   "metadata": {},
   "outputs": [
    {
     "name": "stdout",
     "output_type": "stream",
     "text": [
      "The dataset with 8 encoded genres has 380769 rows and 60 columns\n"
     ]
    }
   ],
   "source": [
    "df_shape = df.shape\n",
    "print(\"The dataset with 8 encoded genres has \" + str(df_shape[0]) + \" rows and \" + str(df_shape[1]) + \" columns\")"
   ]
  },
  {
   "cell_type": "code",
   "execution_count": 13,
   "id": "e5d5db89",
   "metadata": {},
   "outputs": [
    {
     "data": {
      "text/plain": [
       "array(['2013', '1984', '2003', '1997', '2005', '1996', '2007', '2001',\n",
       "       '1968', '1961', '1965', '2002', '1999', '1977', '1991', '2006',\n",
       "       '2009', '2008', '1998', '2000', '1960', '1980', '2011', '1983',\n",
       "       '1993', '1992', '1995', '1994', '2004', '1989', '1979', '2012',\n",
       "       '1939', '1966', '2010', '1964', '1986', '1956', '1982', '1955',\n",
       "       '1972', '1963', '1957', '2014', '1958', '1981', '1990', '1962',\n",
       "       '1971', '1985', '1978', '1975', '1976', '1988', '1974', '1953',\n",
       "       '1973', '1959', '1951', '2015', '1969', '1987', '1967', '1952',\n",
       "       '1970', '1949', '1944', '1954', '1937', '1938', '1950', '1940',\n",
       "       '1933', '0', '1946', '1934', '70', \"['2008/2008', '2008']\",\n",
       "       \"['199?']\", '1201', '1948', '1945', '1935', '1941', '3009',\n",
       "       \"['    ']\", \"['196x']\", '1924', '1947', '1930', '1927', '1929',\n",
       "       \"['1979/1982/1989']\", '711',\n",
       "       \"['recorded june24 1999, bim huis, amsterdam']\", '1936', '1932',\n",
       "       \"['2010/2010', '2010']\", '1', \"['']\", '1928', '90', '1943', '1931',\n",
       "       \"['1975 03']\", '[\"\\'59/\\'61\", \\'1963\\']', '704', '80', '310',\n",
       "       \"['1.3.2012']\", '7', \"['198x']\", '199', '1202', \"['xxxx']\",\n",
       "       \"['199x']\", '1919', '1925', '1942', '101', '1923', '1913',\n",
       "       \"['195x']\", '210', '40', '104', '311', '[\"\\'59/\\'61\", \\'1959\\']',\n",
       "       \"['recorded july 16 1988,kongresshalle, berlin,', '1989']\", '1920',\n",
       "       \"['1952?', '2004']\", \"['YYYY']\", '2808', \"['9/14']\", '1876', '11',\n",
       "       '197', '1905', '20', '1899', \"['197*']\", '1856', '97', '1010',\n",
       "       '1926', '10', \"['    ', '1996']\", '1917', \"['2007 04 10']\", '1922',\n",
       "       \"['4/6/1998', '1998', '0604']\", '1918', '60',\n",
       "       \"['1/18/1994', '1994', '1801']\", '19778', '5', \"['197x']\",\n",
       "       \"['11/29/1994', '1994', '2911']\"], dtype=object)"
      ]
     },
     "execution_count": 13,
     "metadata": {},
     "output_type": "execute_result"
    }
   ],
   "source": [
    "# this shows all possible year labels \n",
    "df[\"year\"].unique()"
   ]
  },
  {
   "cell_type": "code",
   "execution_count": 14,
   "id": "a623f563",
   "metadata": {},
   "outputs": [],
   "source": [
    "def extract_year(value):\n",
    "    try:\n",
    "        return int(value)\n",
    "    except ValueError:\n",
    "\n",
    "        return None\n",
    "\n",
    "\n",
    "df['year'] = df['year'].apply(extract_year)"
   ]
  },
  {
   "cell_type": "code",
   "execution_count": 15,
   "id": "1a284a18",
   "metadata": {},
   "outputs": [
    {
     "name": "stdout",
     "output_type": "stream",
     "text": [
      "The dataset with valid years has 380077 rows and 60 columns\n"
     ]
    }
   ],
   "source": [
    "# inlcuding only valid years \n",
    "valid_years = [1998, 2013, 1984, 2003, 1997, 2005, 2014, 2007, 2006, 1996, 1979, 2004, 2001, 2002, 1992, 1968, 1995, 1993, 1989, 2008, 2009, 1961, 1965, 1988, 1999, 2000, 1977, 2010, 1982, 1991, 1985, 1964, 1970, 2011, 1960, 1994, 1980, 1983, 1957, 1958, 1963, 1987, 2012, 1939, 1966, 1990, 1986, 1969, 1956, 1955, 1972, 1962, 1981, 1971, 2015, 1967, 1978, 1975, 1976, 1974, 1953, 1973, 1959, 1951, 1952, 1949, 1944, 1954, 1937, 1938, 1950, 1940, 1933, 1946, 1934, 1201, 1948, 1945, 1935, 1941, 1010, 1924, 1947, 1930, 1927, 1942, 1929, 1936, 1932, 1928, 1943, 1931, 1803, 1202, 1919, 1925, 1923, 1913, 1910, 1920, 1876, 1890, 1905, 1899, 1856, 1916, 1926, 1917, 1922, 1918]\n",
    "\n",
    "filtered_df = df[df['year'].isin(valid_years)] \n",
    "df_shape = filtered_df.shape\n",
    "print(\"The dataset with valid years has \" + str(df_shape[0]) + \" rows and \" + str(df_shape[1]) + \" columns\")"
   ]
  },
  {
   "cell_type": "code",
   "execution_count": 16,
   "id": "a4171591",
   "metadata": {},
   "outputs": [],
   "source": [
    "filtered_df = filtered_df.dropna(subset=['year'])"
   ]
  },
  {
   "cell_type": "code",
   "execution_count": 17,
   "id": "eb3477f6",
   "metadata": {
    "scrolled": true
   },
   "outputs": [
    {
     "data": {
      "text/plain": [
       "id                                       object\n",
       "danceability                            float64\n",
       "gender_male                             float64\n",
       "alternative                             float64\n",
       "blues                                   float64\n",
       "electronic                              float64\n",
       "folkcountry                             float64\n",
       "funksoulrnb                             float64\n",
       "jazz                                    float64\n",
       "pop                                     float64\n",
       "raphiphop                               float64\n",
       "rock                                    float64\n",
       "genre                                    object\n",
       "acoustic                                float64\n",
       "aggressive                              float64\n",
       "mood_electronic                         float64\n",
       "happy                                   float64\n",
       "party                                   float64\n",
       "relaxed                                 float64\n",
       "sad                                     float64\n",
       "mood_mirex_1                            float64\n",
       "mood_mirex_2                            float64\n",
       "mood_mirex_3                            float64\n",
       "mood_mirex_4                            float64\n",
       "mood_mirex_5                            float64\n",
       "timbre_bright                           float64\n",
       "tonal                                   float64\n",
       "instrumental                            float64\n",
       "bit_rate                                  int64\n",
       "codec                                    object\n",
       "length                                  float64\n",
       "lossless                                  int64\n",
       "replay_gain                             float64\n",
       "true_genre                               object\n",
       "artist                                   object\n",
       "album                                    object\n",
       "bpm                                      object\n",
       "year                                    float64\n",
       "date                                     object\n",
       "label                                    object\n",
       "song                                     object\n",
       "artistsort                               object\n",
       "submission_offset                         int64\n",
       "bpm_2                                   float64\n",
       "bpm_histogram_first_peak_bpm_mean         int64\n",
       "bpm_histogram_first_peak_bpm_median       int64\n",
       "bpm_histogram_second_peak_bpm_mean        int64\n",
       "bpm_histogram_second_peak_bpm_median      int64\n",
       "danceability_2                          float64\n",
       "onset_rate                              float64\n",
       "submission_offset_2                       int64\n",
       "key_key                                  object\n",
       "key_scale                                object\n",
       "tuning_frequency                        float64\n",
       "tuning_equal_tempered_deviation         float64\n",
       "submission_offset_2.1                     int64\n",
       "average_loudness                        float64\n",
       "dynamic_complexity                      float64\n",
       "mfcc_zero_mean                          float64\n",
       "genre_parse                               int64\n",
       "dtype: object"
      ]
     },
     "execution_count": 17,
     "metadata": {},
     "output_type": "execute_result"
    }
   ],
   "source": [
    "filtered_df.dtypes"
   ]
  },
  {
   "cell_type": "code",
   "execution_count": 18,
   "id": "1f3c3454",
   "metadata": {},
   "outputs": [],
   "source": [
    "def find_non_numeric_columns(df):\n",
    "\n",
    "    non_numeric_columns = df.select_dtypes(exclude=['int64', 'float64', 'int32', 'float32', 'int'])\n",
    "\n",
    "    # non_numeric_columns now contains only the columns with data types other than int or float\n",
    "    # list of names w non-numeric columns\n",
    "    non_numeric_column_names = non_numeric_columns.columns.tolist()\n",
    "    \n",
    "    return non_numeric_column_names"
   ]
  },
  {
   "cell_type": "code",
   "execution_count": 19,
   "id": "de0b6ce5",
   "metadata": {},
   "outputs": [],
   "source": [
    "def encode_key_vectorized(df):\n",
    "    # Create a mapping from unique values to their indices\n",
    "    key_scale_mapping = {key: idx for idx, key in enumerate(df['key_scale'].unique())}\n",
    "    key_key_mapping = {key: idx for idx, key in enumerate(df['key_key'].unique())}\n",
    "    \n",
    "    # Map the original column values to the indices\n",
    "    df['key_scale'] = df['key_scale'].map(key_scale_mapping)\n",
    "    df['key_key'] = df['key_key'].map(key_key_mapping)\n",
    "    \n",
    "    return df"
   ]
  },
  {
   "cell_type": "code",
   "execution_count": 20,
   "id": "d10d0e9f",
   "metadata": {},
   "outputs": [
    {
     "data": {
      "text/plain": [
       "1    0\n",
       "2    1\n",
       "3    0\n",
       "Name: key_scale, dtype: int64"
      ]
     },
     "execution_count": 20,
     "metadata": {},
     "output_type": "execute_result"
    }
   ],
   "source": [
    "# enocdes the keys to numeric\n",
    "encode_key_vectorized(filtered_df)\n",
    "filtered_df.head(3)[\"key_scale\"]"
   ]
  },
  {
   "cell_type": "code",
   "execution_count": 21,
   "id": "28ccabda",
   "metadata": {},
   "outputs": [
    {
     "data": {
      "text/plain": [
       "['id',\n",
       " 'genre',\n",
       " 'codec',\n",
       " 'true_genre',\n",
       " 'artist',\n",
       " 'album',\n",
       " 'bpm',\n",
       " 'date',\n",
       " 'label',\n",
       " 'song',\n",
       " 'artistsort']"
      ]
     },
     "execution_count": 21,
     "metadata": {},
     "output_type": "execute_result"
    }
   ],
   "source": [
    "find_non_numeric_columns(filtered_df)"
   ]
  },
  {
   "cell_type": "code",
   "execution_count": 22,
   "id": "f7d9ad51",
   "metadata": {},
   "outputs": [],
   "source": [
    "# makes bpm all ints\n",
    "filtered_df[\"bpm\"] = filtered_df[\"bpm\"].apply(extract_year)"
   ]
  },
  {
   "cell_type": "code",
   "execution_count": 23,
   "id": "2c587e75",
   "metadata": {},
   "outputs": [
    {
     "name": "stdout",
     "output_type": "stream",
     "text": [
      "(35144, 60)\n"
     ]
    }
   ],
   "source": [
    "filtered_df.dropna(subset=[\"bpm\"], inplace=True)\n",
    "print(filtered_df.shape)"
   ]
  },
  {
   "cell_type": "code",
   "execution_count": 24,
   "id": "b1d22298",
   "metadata": {},
   "outputs": [],
   "source": [
    "def is_string(x):\n",
    "    return isinstance(x, str)\n"
   ]
  },
  {
   "cell_type": "code",
   "execution_count": 25,
   "id": "bb4d5853",
   "metadata": {},
   "outputs": [],
   "source": [
    "# filtering out non_numeric columns\n",
    "numeric_df = filtered_df.drop(columns=find_non_numeric_columns(filtered_df))"
   ]
  },
  {
   "cell_type": "code",
   "execution_count": 26,
   "id": "f2fb19ef",
   "metadata": {},
   "outputs": [],
   "source": [
    "# checking for any nans in the colums after filtering \n",
    "\n",
    "def count_nan_in_columns(df):\n",
    "    return df.isna().sum()"
   ]
  },
  {
   "cell_type": "code",
   "execution_count": 27,
   "id": "386dd169",
   "metadata": {},
   "outputs": [
    {
     "data": {
      "text/plain": [
       "(35144, 50)"
      ]
     },
     "execution_count": 27,
     "metadata": {},
     "output_type": "execute_result"
    }
   ],
   "source": [
    "numeric_df.shape"
   ]
  },
  {
   "cell_type": "code",
   "execution_count": 28,
   "id": "566a154d",
   "metadata": {},
   "outputs": [],
   "source": [
    "#RandomForestClassifier, LogisticRegression and DecisionTreeClassifier\n",
    "# to see whats the best model"
   ]
  },
  {
   "cell_type": "code",
   "execution_count": 30,
   "id": "5edf0945",
   "metadata": {},
   "outputs": [
    {
     "name": "stdout",
     "output_type": "stream",
     "text": [
      "RandomForest Classifier Accuracy: 0.6288234457248542\n",
      "Logistic Regression Classifier Accuracy: 0.5576895717740789\n",
      "Decision Tree Classifier Accuracy: 0.5030587565798833\n",
      "Predictions: [8 5 2 ... 8 1 5]\n"
     ]
    }
   ],
   "source": [
    "from joblib import load, dump\n",
    "from sklearn.model_selection import train_test_split\n",
    "from sklearn.ensemble import RandomForestClassifier\n",
    "from sklearn.linear_model import LogisticRegression\n",
    "from sklearn.tree import DecisionTreeClassifier\n",
    "from sklearn.metrics import accuracy_score\n",
    "\n",
    "# Function to save model to local directory\n",
    "def save_model(model, model_name):\n",
    "    dump(model, model_name)\n",
    "\n",
    "# Function to load model from local directory and make predictions\n",
    "def predict(model_file, test_set):\n",
    "    # Load the model\n",
    "    model = load(model_file)\n",
    "    \n",
    "    # Make predictions\n",
    "    predictions = model.predict(test_set)\n",
    "    \n",
    "    return predictions\n",
    "\n",
    "# Split, train\n",
    "X = numeric_df[['danceability', 'gender_male', 'alternative', 'blues', 'electronic', 'folkcountry', 'funksoulrnb', 'jazz', 'pop']]\n",
    "y = numeric_df['genre_parse']\n",
    "X_train, X_test, y_train, y_test = train_test_split(X, y, test_size=0.2, random_state=42)\n",
    "rf_classifier = RandomForestClassifier(random_state=42)\n",
    "rf_classifier.fit(X_train, y_train)\n",
    "rf_predictions = rf_classifier.predict(X_test)\n",
    "rf_accuracy = accuracy_score(y_test, rf_predictions)\n",
    "print(\"RandomForest Classifier Accuracy:\", rf_accuracy)\n",
    "\n",
    "lr_classifier = LogisticRegression(max_iter=1000, random_state=42)\n",
    "lr_classifier.fit(X_train, y_train)\n",
    "lr_predictions = lr_classifier.predict(X_test)\n",
    "lr_accuracy = accuracy_score(y_test, lr_predictions)\n",
    "print(\"Logistic Regression Classifier Accuracy:\", lr_accuracy)\n",
    "\n",
    "# Train Decision Tree Classifier\n",
    "dt_classifier = DecisionTreeClassifier(random_state=42)\n",
    "dt_classifier.fit(X_train, y_train)\n",
    "dt_predictions = dt_classifier.predict(X_test)\n",
    "dt_accuracy = accuracy_score(y_test, dt_predictions)\n",
    "print(\"Decision Tree Classifier Accuracy:\", dt_accuracy)\n"
   ]
  },
  {
   "cell_type": "code",
   "execution_count": null,
   "id": "ecbeed9c",
   "metadata": {},
   "outputs": [],
   "source": [
    "# based on previous model, we use all available features execpt target variable"
   ]
  },
  {
   "cell_type": "code",
   "execution_count": 33,
   "id": "91dd947b",
   "metadata": {},
   "outputs": [
    {
     "name": "stderr",
     "output_type": "stream",
     "text": [
      "C:\\Anaconda\\Lib\\site-packages\\sklearn\\linear_model\\_logistic.py:460: ConvergenceWarning: lbfgs failed to converge (status=2):\n",
      "ABNORMAL_TERMINATION_IN_LNSRCH.\n",
      "\n",
      "Increase the number of iterations (max_iter) or scale the data as shown in:\n",
      "    https://scikit-learn.org/stable/modules/preprocessing.html\n",
      "Please also refer to the documentation for alternative solver options:\n",
      "    https://scikit-learn.org/stable/modules/linear_model.html#logistic-regression\n",
      "  n_iter_i = _check_optimize_result(\n"
     ]
    },
    {
     "name": "stdout",
     "output_type": "stream",
     "text": [
      "RandomForest Classifier Accuracy: 0.7429221795418979\n",
      "Logistic Regression Classifier Accuracy: 0.4238156209987196\n",
      "Decision Tree Classifier Accuracy: 0.6645326504481434\n"
     ]
    }
   ],
   "source": [
    "X = numeric_df.drop(columns=['genre_parse'])\n",
    "y = numeric_df['genre_parse']\n",
    "X_train, X_test, y_train, y_test = train_test_split(X, y, test_size=0.2, random_state=42)\n",
    "\n",
    "rf_classifier = RandomForestClassifier(random_state=42)\n",
    "rf_classifier.fit(X_train, y_train)\n",
    "\n",
    "lr_classifier = LogisticRegression(random_state=42)\n",
    "lr_classifier.fit(X_train, y_train)\n",
    "\n",
    "dt_classifier = DecisionTreeClassifier(random_state=42)\n",
    "dt_classifier.fit(X_train, y_train)\n",
    "\n",
    "rf_accuracy = accuracy_score(y_test, rf_classifier.predict(X_test))\n",
    "lr_accuracy = accuracy_score(y_test, lr_classifier.predict(X_test))\n",
    "dt_accuracy = accuracy_score(y_test, dt_classifier.predict(X_test))\n",
    "\n",
    "print(\"RandomForest Classifier Accuracy:\", rf_accuracy)\n",
    "print(\"Logistic Regression Classifier Accuracy:\", lr_accuracy)\n",
    "print(\"Decision Tree Classifier Accuracy:\", dt_accuracy)"
   ]
  },
  {
   "cell_type": "code",
   "execution_count": null,
   "id": "3229745d",
   "metadata": {},
   "outputs": [],
   "source": [
    "# generating confusion matrix, classification report to get more in depth analysis of our model"
   ]
  },
  {
   "cell_type": "code",
   "execution_count": 34,
   "id": "d102b760",
   "metadata": {},
   "outputs": [
    {
     "name": "stdout",
     "output_type": "stream",
     "text": [
      "Accuracy: 0.7429221795418979\n",
      "Confusion Matrix:\n",
      "[[2771   67    0    5   88    3    0   45]\n",
      " [  31 1164    0    1  136    2    2   55]\n",
      " [  31   21   12    1   96    0    0   36]\n",
      " [  38   74    0   22   89    3    0   30]\n",
      " [  77  181    4    5  563    2    0  199]\n",
      " [  14   37    0    7   18   21    0    8]\n",
      " [   6    2    0    0    6    0   70    7]\n",
      " [  89   93    3    0  193    1    1  599]]\n"
     ]
    },
    {
     "data": {
      "image/png": "[encoded data removed]",
      "text/plain": [
       "<Figure size 1000x800 with 1 Axes>"
      ]
     },
     "metadata": {},
     "output_type": "display_data"
    },
    {
     "name": "stdout",
     "output_type": "stream",
     "text": [
      "Classification Report:\n",
      "              precision    recall  f1-score   support\n",
      "\n",
      "           1       0.91      0.93      0.92      2979\n",
      "           2       0.71      0.84      0.77      1391\n",
      "           3       0.63      0.06      0.11       197\n",
      "           4       0.54      0.09      0.15       256\n",
      "           5       0.47      0.55      0.51      1031\n",
      "           6       0.66      0.20      0.31       105\n",
      "           7       0.96      0.77      0.85        91\n",
      "           8       0.61      0.61      0.61       979\n",
      "\n",
      "    accuracy                           0.74      7029\n",
      "   macro avg       0.69      0.51      0.53      7029\n",
      "weighted avg       0.74      0.74      0.72      7029\n",
      "\n"
     ]
    },
    {
     "data": {
      "text/plain": [
       "['rf_model_3.joblib']"
      ]
     },
     "execution_count": 34,
     "metadata": {},
     "output_type": "execute_result"
    }
   ],
   "source": [
    "from sklearn.metrics import accuracy_score, confusion_matrix, classification_report\n",
    "import matplotlib.pyplot as plt\n",
    "import seaborn as sns\n",
    "\n",
    "X_train, X_test, y_train, y_test = train_test_split(X, y, test_size=0.2, random_state=42)\n",
    "\n",
    "rf_classifier = RandomForestClassifier(random_state=42)\n",
    "rf_classifier.fit(X_train, y_train)\n",
    "y_pred = rf_classifier.predict(X_test)\n",
    "accuracy = accuracy_score(y_test, y_pred)\n",
    "print(\"Accuracy:\", accuracy)\n",
    "\n",
    "#confusion matrix\n",
    "conf_matrix = confusion_matrix(y_test, y_pred)\n",
    "print(\"Confusion Matrix:\")\n",
    "print(conf_matrix)\n",
    "\n",
    "#plotting\n",
    "plt.figure(figsize=(10, 8))\n",
    "sns.heatmap(conf_matrix, annot=True, fmt='d', cmap='Blues', cbar=False)\n",
    "plt.xlabel('Predicted Labels')\n",
    "plt.ylabel('True Labels')\n",
    "plt.title('Confusion Matrix')\n",
    "plt.show()\n",
    "\n",
    "#classification report\n",
    "class_report = classification_report(y_test, y_pred)\n",
    "print(\"Classification Report:\")\n",
    "print(class_report)"
   ]
  },
  {
   "cell_type": "code",
   "execution_count": null,
   "id": "316d836f",
   "metadata": {},
   "outputs": [],
   "source": [
    "# based on above model, we will try to improve presion by feature enineering, hyperprarameter tuning\n",
    "#and using ensemble methords"
   ]
  },
  {
   "cell_type": "code",
   "execution_count": 35,
   "id": "4477b8bd",
   "metadata": {},
   "outputs": [
    {
     "name": "stdout",
     "output_type": "stream",
     "text": [
      "Best Hyperparameters: {'max_depth': None, 'min_samples_leaf': 1, 'min_samples_split': 5, 'n_estimators': 100}\n",
      "Accuracy: 0.7464788732394366\n",
      "Confusion Matrix:\n",
      " [[2764   66    0    5   94    4    1   45]\n",
      " [  25 1172    0    1  134    2    1   56]\n",
      " [  31   17    9    0   96    0    0   44]\n",
      " [  33   76    0   21   92    2    0   32]\n",
      " [  71  180    1    5  582    1    1  190]\n",
      " [  11   38    0    4   22   22    0    8]\n",
      " [   6    1    0    0    9    0   72    3]\n",
      " [  85   90    1    1  196    0    1  605]]\n",
      "Classification Report:\n",
      "               precision    recall  f1-score   support\n",
      "\n",
      "           1       0.91      0.93      0.92      2979\n",
      "           2       0.71      0.84      0.77      1391\n",
      "           3       0.82      0.05      0.09       197\n",
      "           4       0.57      0.08      0.14       256\n",
      "           5       0.48      0.56      0.52      1031\n",
      "           6       0.71      0.21      0.32       105\n",
      "           7       0.95      0.79      0.86        91\n",
      "           8       0.62      0.62      0.62       979\n",
      "\n",
      "    accuracy                           0.75      7029\n",
      "   macro avg       0.72      0.51      0.53      7029\n",
      "weighted avg       0.75      0.75      0.73      7029\n",
      "\n"
     ]
    }
   ],
   "source": [
    "from sklearn.model_selection import GridSearchCV\n",
    "\n",
    "#hyperparameters\n",
    "param_grid = {\n",
    "    'n_estimators': [50, 100],\n",
    "    'max_depth': [None, 10],\n",
    "    'min_samples_split': [2, 5],\n",
    "    'min_samples_leaf': [1, 2]\n",
    "}\n",
    "\n",
    "rf_classifier = RandomForestClassifier(random_state=42)\n",
    "grid_search = GridSearchCV(rf_classifier, param_grid, cv=3, scoring='accuracy', n_jobs=-1)\n",
    "\n",
    "#fit grid search\n",
    "grid_search.fit(X_train, y_train)\n",
    "\n",
    "#hyperparameters\n",
    "best_params = grid_search.best_params_\n",
    "print(\"Best Hyperparameters:\", best_params)\n",
    "\n",
    "best_rf_classifier = grid_search.best_estimator_\n",
    "\n",
    "y_pred = best_rf_classifier.predict(X_test)\n",
    "accuracy = accuracy_score(y_test, y_pred)\n",
    "conf_matrix = confusion_matrix(y_test, y_pred)\n",
    "class_report = classification_report(y_test, y_pred)\n",
    "\n",
    "print(\"Accuracy:\", accuracy)\n",
    "print(\"Confusion Matrix:\\n\", conf_matrix)\n",
    "print(\"Classification Report:\\n\", class_report)"
   ]
  },
  {
   "cell_type": "code",
   "execution_count": 36,
   "id": "e3999dcb",
   "metadata": {},
   "outputs": [],
   "source": [
    "# extracting important features to be used for improving our model"
   ]
  },
  {
   "cell_type": "code",
   "execution_count": 37,
   "id": "3ae63c68",
   "metadata": {},
   "outputs": [
    {
     "data": {
      "image/png": "[encoded data removed]",
      "text/plain": [
       "<Figure size 1000x800 with 1 Axes>"
      ]
     },
     "metadata": {},
     "output_type": "display_data"
    }
   ],
   "source": [
    "#feature importances\n",
    "feature_importances = best_rf_classifier.feature_importances_\n",
    "feature_importance_df = pd.DataFrame({'Feature': X.columns, 'Importance': feature_importances})\n",
    "feature_importance_df = feature_importance_df.sort_values(by='Importance', ascending=False)\n",
    "\n",
    "#plot\n",
    "plt.figure(figsize=(10, 8))\n",
    "sns.barplot(x='Importance', y='Feature', data=feature_importance_df)\n",
    "plt.title('Feature Importances')\n",
    "plt.xlabel('Importance')\n",
    "plt.ylabel('Feature')\n",
    "plt.show()"
   ]
  },
  {
   "cell_type": "code",
   "execution_count": 38,
   "id": "f8d503d2",
   "metadata": {},
   "outputs": [
    {
     "name": "stdout",
     "output_type": "stream",
     "text": [
      "Top 10 most important features:\n",
      "            Feature  Importance\n",
      "26         bit_rate    0.148637\n",
      "30              bpm    0.051193\n",
      "13  mood_electronic    0.043883\n",
      "11         acoustic    0.039587\n",
      "28         lossless    0.035935\n",
      "48   mfcc_zero_mean    0.035652\n",
      "0      danceability    0.031028\n",
      "38   danceability_2    0.028530\n",
      "31             year    0.027271\n",
      "25     instrumental    0.026512\n"
     ]
    }
   ],
   "source": [
    "#top features\n",
    "top_n = 10 \n",
    "print(\"Top\", top_n, \"most important features:\")\n",
    "print(feature_importance_df.head(top_n))"
   ]
  },
  {
   "cell_type": "code",
   "execution_count": 39,
   "id": "b17a43db",
   "metadata": {},
   "outputs": [],
   "source": [
    "#improving model beased on most important features only"
   ]
  },
  {
   "cell_type": "code",
   "execution_count": 40,
   "id": "5ba9d484",
   "metadata": {},
   "outputs": [
    {
     "name": "stdout",
     "output_type": "stream",
     "text": [
      "Accuracy with selected features: 0.7597097737942808\n",
      "Confusion Matrix with selected features:\n",
      " [[2797   56    1    6   64    5    0   50]\n",
      " [  24 1202    0    3  115    1    1   45]\n",
      " [  35   17   26    4   75    0    0   40]\n",
      " [  28   75    1   44   68    3    0   37]\n",
      " [  70  183    7    4  584    2    0  181]\n",
      " [   7   42    0    6   24   19    0    7]\n",
      " [   4    2    0    0    5    0   75    5]\n",
      " [  85  103    5    2  186    3    2  593]]\n",
      "Classification Report with selected features:\n",
      "               precision    recall  f1-score   support\n",
      "\n",
      "           1       0.92      0.94      0.93      2979\n",
      "           2       0.72      0.86      0.78      1391\n",
      "           3       0.65      0.13      0.22       197\n",
      "           4       0.64      0.17      0.27       256\n",
      "           5       0.52      0.57      0.54      1031\n",
      "           6       0.58      0.18      0.28       105\n",
      "           7       0.96      0.82      0.89        91\n",
      "           8       0.62      0.61      0.61       979\n",
      "\n",
      "    accuracy                           0.76      7029\n",
      "   macro avg       0.70      0.54      0.56      7029\n",
      "weighted avg       0.76      0.76      0.74      7029\n",
      "\n"
     ]
    },
    {
     "data": {
      "text/plain": [
       "['best_random_forest_model_selected.joblib']"
      ]
     },
     "execution_count": 40,
     "metadata": {},
     "output_type": "execute_result"
    }
   ],
   "source": [
    "from sklearn.feature_selection import SelectFromModel\n",
    "\n",
    "#feature selector\n",
    "feature_selector = SelectFromModel(best_rf_classifier, threshold='mean')\n",
    "feature_selector.fit(X_train, y_train)\n",
    "X_train_selected = feature_selector.transform(X_train)\n",
    "X_test_selected = feature_selector.transform(X_test)\n",
    "best_rf_classifier_selected = RandomForestClassifier(random_state=42)\n",
    "best_rf_classifier_selected.fit(X_train_selected, y_train)\n",
    "\n",
    "y_pred_selected = best_rf_classifier_selected.predict(X_test_selected)\n",
    "accuracy_selected = accuracy_score(y_test, y_pred_selected)\n",
    "conf_matrix_selected = confusion_matrix(y_test, y_pred_selected)\n",
    "class_report_selected = classification_report(y_test, y_pred_selected)\n",
    "\n",
    "print(\"Accuracy with selected features:\", accuracy_selected)\n",
    "print(\"Confusion Matrix with selected features:\\n\", conf_matrix_selected)\n",
    "print(\"Classification Report with selected features:\\n\", class_report_selected)\n",
    "\n",
    "dump(best_rf_classifier_selected, \"best_random_forest_model_selected.joblib\")"
   ]
  },
  {
   "cell_type": "code",
   "execution_count": null,
   "id": "d03148c3",
   "metadata": {},
   "outputs": [],
   "source": []
  }
 ],
 "metadata": {
  "kernelspec": {
   "display_name": "Python 3 (ipykernel)",
   "language": "python",
   "name": "python3"
  },
  "language_info": {
   "codemirror_mode": {
    "name": "ipython",
    "version": 3
   },
   "file_extension": ".py",
   "mimetype": "text/x-python",
   "name": "python",
   "nbconvert_exporter": "python",
   "pygments_lexer": "ipython3",
   "version": "3.11.4"
  }
 },
 "nbformat": 4,
 "nbformat_minor": 5
}
