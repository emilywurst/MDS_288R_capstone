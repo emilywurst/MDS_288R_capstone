{
 "cells": [
  {
   "cell_type": "code",
   "execution_count": 1,
   "id": "de1de8b7",
   "metadata": {},
   "outputs": [],
   "source": [
    "import numpy as np\n",
    "import pandas as pd\n",
    "import matplotlib.pyplot as plt\n",
    "from sklearn.decomposition import PCA\n",
    "from sklearn.neighbors import NearestNeighbors\n",
    "from sklearn.neighbors import KNeighborsClassifier\n",
    "from sklearn.cluster import KMeans\n",
    "import seaborn as sns\n",
    "from sklearn.linear_model import LogisticRegression, LinearRegression\n",
    "from sklearn.utils import resample\n",
    "from sklearn.ensemble import RandomForestRegressor\n",
    "from sklearn.preprocessing import normalize, OrdinalEncoder"
   ]
  },
  {
   "cell_type": "code",
   "execution_count": 2,
   "id": "5ef02321",
   "metadata": {},
   "outputs": [
    {
     "name": "stderr",
     "output_type": "stream",
     "text": [
      "/tmp/ipykernel_3371/1507164070.py:1: DtypeWarning: Columns (37) have mixed types. Specify dtype option on import or set low_memory=False.\n",
      "  df = pd.read_csv('data.csv')\n"
     ]
    }
   ],
   "source": [
    "df = pd.read_csv('data.csv')"
   ]
  },
  {
   "cell_type": "code",
   "execution_count": 3,
   "id": "4d112442",
   "metadata": {},
   "outputs": [],
   "source": [
    "df = df.drop(['Unnamed: 0','submission_offset','submission_offset_2','submission_offset_2.1'], axis = 1)"
   ]
  },
  {
   "cell_type": "code",
   "execution_count": 4,
   "id": "1ca0ce47",
   "metadata": {},
   "outputs": [],
   "source": [
    "df['year'] = pd.to_numeric(df['year'], errors = 'coerce')"
   ]
  },
  {
   "cell_type": "code",
   "execution_count": 5,
   "id": "fcfe8b65",
   "metadata": {},
   "outputs": [],
   "source": [
    "df.drop_duplicates(subset = ['song','artist','album'],inplace = True)"
   ]
  },
  {
   "cell_type": "code",
   "execution_count": 6,
   "id": "7dab8da7",
   "metadata": {},
   "outputs": [],
   "source": [
    "lis = []\n",
    "for d in df['true_genre']:\n",
    "    if type(d) == str:\n",
    "        d = d.lower()\n",
    "        g = ''\n",
    "        if 'jazz' in d:\n",
    "            g = g + 'jazz/'\n",
    "        if 'electronic' in d:\n",
    "            g = g + 'electronic/'\n",
    "        if ('folk' in d) or('country' in d):\n",
    "            g = g + 'folkcountry/'\n",
    "        if ('funk' in d) or ('soul' in d) or ('rnb' in d) or ('r&b' in d):\n",
    "            g = g + 'funksoulrnb/'\n",
    "        if 'pop' in d:\n",
    "            g = g + 'pop/'\n",
    "        if ('rap' in d) or (('hip' in d) and ('hop' in d)):\n",
    "            g = g + 'rap/'\n",
    "        if ('classical' in d) or ('baroque' in d):\n",
    "            g = g + 'classical/'\n",
    "        if 'alternative' in d:\n",
    "            g = g + 'alternative/'\n",
    "        if 'blues' in d:\n",
    "            g = g+ 'blues/'\n",
    "        if 'rock' in d:\n",
    "            g = g + \"rock\"\n",
    "        if g == '':\n",
    "            lis.append(None)\n",
    "        else:\n",
    "            lis.append(g.strip(\"/\"))\n",
    "    else:\n",
    "        lis.append(None)\n",
    "        \n",
    "df['genre_parse'] = lis"
   ]
  },
  {
   "cell_type": "code",
   "execution_count": 7,
   "id": "a06a0b35",
   "metadata": {},
   "outputs": [],
   "source": [
    "genre = df[df['genre_parse'].isnull() == False]"
   ]
  },
  {
   "cell_type": "code",
   "execution_count": 8,
   "id": "4cfc0dd4",
   "metadata": {},
   "outputs": [],
   "source": [
    "genre1 = genre[~genre['genre_parse'].str.contains('/')]"
   ]
  },
  {
   "cell_type": "code",
   "execution_count": 9,
   "id": "5e127ba1",
   "metadata": {},
   "outputs": [
    {
     "name": "stderr",
     "output_type": "stream",
     "text": [
      "/tmp/ipykernel_3371/1982126763.py:3: SettingWithCopyWarning: \n",
      "A value is trying to be set on a copy of a slice from a DataFrame.\n",
      "Try using .loc[row_indexer,col_indexer] = value instead\n",
      "\n",
      "See the caveats in the documentation: https://pandas.pydata.org/pandas-docs/stable/user_guide/indexing.html#returning-a-view-versus-a-copy\n",
      "  genre1['key_scale'],genre1['key_key'] = arr[:,0],arr[:,1]\n"
     ]
    }
   ],
   "source": [
    "enc = OrdinalEncoder()\n",
    "arr = enc.fit_transform(genre1[['key_scale','key_key']])\n",
    "genre1['key_scale'],genre1['key_key'] = arr[:,0],arr[:,1]"
   ]
  },
  {
   "cell_type": "code",
   "execution_count": 10,
   "id": "d735e2ba",
   "metadata": {},
   "outputs": [],
   "source": [
    "genre1 = genre1.dropna(subset = 'year')"
   ]
  },
  {
   "cell_type": "code",
   "execution_count": 11,
   "id": "0341acb3",
   "metadata": {},
   "outputs": [],
   "source": [
    "genre2 = normalize(genre1.select_dtypes(include = 'number'), norm = 'max')"
   ]
  },
  {
   "cell_type": "code",
   "execution_count": 13,
   "id": "6b68522f",
   "metadata": {},
   "outputs": [
    {
     "data": {
      "text/plain": [
       "131921"
      ]
     },
     "execution_count": 13,
     "metadata": {},
     "output_type": "execute_result"
    }
   ],
   "source": [
    "gy = genre1[(genre1['year']<= 1985) & (genre1['year']>=1950)]\n",
    "gy1 = genre1[(genre1['year']<= 2015) & (genre1['year']>=1986)]\n",
    "gy1 = resample(gy1,replace = False, n_samples = 131921)\n",
    "len(gy)"
   ]
  },
  {
   "cell_type": "code",
   "execution_count": 14,
   "id": "6ccb17f9",
   "metadata": {},
   "outputs": [],
   "source": [
    "gy = pd.concat([gy,gy1])\n",
    "gy = gy.sample(frac=1)\n",
    "gy_y = gy['year']\n",
    "gy_x = gy.drop('year',axis = 1)"
   ]
  },
  {
   "cell_type": "code",
   "execution_count": 15,
   "id": "c4c88de4",
   "metadata": {},
   "outputs": [],
   "source": [
    "gy_x = normalize(gy_x.select_dtypes(include = 'number'), norm = 'max')\n",
    "# macs = gy_y.max()\n",
    "# gy_y = gy_y/macs"
   ]
  },
  {
   "cell_type": "code",
   "execution_count": 16,
   "id": "5fc251e0",
   "metadata": {},
   "outputs": [
    {
     "name": "stdout",
     "output_type": "stream",
     "text": [
      "Linear regression R2: 0.061484867161798684\n",
      "Linear regression MSE: 30.753162877234782\n"
     ]
    }
   ],
   "source": [
    "#gy_x = normalize(gy_x.select_dtypes(include = 'number'), norm = 'max')\n",
    "pca = PCA(n_components = 4)\n",
    "trans = pca.fit_transform(gy_x)   \n",
    "gy_xtr = gy_x[:150000]\n",
    "gy_ytr = gy_y[:150000]\n",
    "gy_xte = gy_x[150000:]\n",
    "gy_yte = gy_y[150000:]\n",
    "reg = LinearRegression().fit(gy_xtr,gy_ytr)\n",
    "print(\"Linear regression R2:\", str(reg.score(gy_xte,gy_yte)))\n",
    "print(\"Linear regression MSE:\",str(((sum(reg.predict(gy_xte)-gy_yte)**2)/len(gy_yte))**(1/2)))"
   ]
  },
  {
   "cell_type": "code",
   "execution_count": 17,
   "id": "da594ce8",
   "metadata": {},
   "outputs": [
    {
     "name": "stdout",
     "output_type": "stream",
     "text": [
      "Random Forest Regressor R2: 0.0366300647444775\n",
      "Linear regression MSE: 27.927306919502946\n"
     ]
    }
   ],
   "source": [
    "regr = RandomForestRegressor(criterion = 'friedman_mse' ,max_depth = 1,random_state = 0).fit(gy_xtr, gy_ytr)\n",
    "print(\"Random Forest Regressor R2:\",str(regr.score(gy_xte,gy_yte)))\n",
    "print(\"Linear regression MSE:\",str(((sum(regr.predict(gy_xte)-gy_yte)**2)/len(gy_yte))**(1/2)))"
   ]
  },
  {
   "cell_type": "code",
   "execution_count": 22,
   "id": "802c7cb0",
   "metadata": {},
   "outputs": [
    {
     "data": {
      "image/png": "[encoded data removed]",
      "text/plain": [
       "<Figure size 432x288 with 1 Axes>"
      ]
     },
     "metadata": {
      "needs_background": "light"
     },
     "output_type": "display_data"
    }
   ],
   "source": [
    "plt.hist(reg.predict(gy_xte));"
   ]
  },
  {
   "cell_type": "code",
   "execution_count": 21,
   "id": "9876b066",
   "metadata": {},
   "outputs": [
    {
     "data": {
      "image/png": "[encoded data removed]",
      "text/plain": [
       "<Figure size 432x288 with 1 Axes>"
      ]
     },
     "metadata": {
      "needs_background": "light"
     },
     "output_type": "display_data"
    }
   ],
   "source": [
    "plt.hist(regr.predict(gy_xte));"
   ]
  },
  {
   "cell_type": "code",
   "execution_count": null,
   "id": "371eebef",
   "metadata": {},
   "outputs": [],
   "source": []
  }
 ],
 "metadata": {
  "kernelspec": {
   "display_name": "Python 3 (ipykernel)",
   "language": "python",
   "name": "python3"
  },
  "language_info": {
   "codemirror_mode": {
    "name": "ipython",
    "version": 3
   },
   "file_extension": ".py",
   "mimetype": "text/x-python",
   "name": "python",
   "nbconvert_exporter": "python",
   "pygments_lexer": "ipython3",
   "version": "3.9.5"
  }
 },
 "nbformat": 4,
 "nbformat_minor": 5
}
